{
 "cells": [
  {
   "cell_type": "code",
   "execution_count": 2,
   "metadata": {
    "ExecuteTime": {
     "end_time": "2019-05-08T15:34:20.364189Z",
     "start_time": "2019-05-08T15:34:20.360186Z"
    }
   },
   "outputs": [],
   "source": [
    "import sys\n",
    "import random\n",
    "from PySide2 import QtCore, QtWidgets, QtGui"
   ]
  },
  {
   "cell_type": "code",
   "execution_count": 3,
   "metadata": {
    "ExecuteTime": {
     "end_time": "2019-05-08T15:34:21.111613Z",
     "start_time": "2019-05-08T15:34:21.103607Z"
    }
   },
   "outputs": [],
   "source": [
    "class MyWidget(QtWidgets.QWidget):\n",
    "    def __init__(self):\n",
    "        super().__init__()\n",
    "\n",
    "        self.hello = [\"Hallo Welt\", \"Hei maailma\", \"Hola Mundo\", \"Привет мир\"]\n",
    "\n",
    "        self.button = QtWidgets.QPushButton(\"Click me!\")\n",
    "        self.text = QtWidgets.QLabel(\"Hello World\")\n",
    "        self.text.setAlignment(QtCore.Qt.AlignCenter)\n",
    "\n",
    "        self.layout = QtWidgets.QVBoxLayout()\n",
    "        self.layout.addWidget(self.text)\n",
    "        self.layout.addWidget(self.button)\n",
    "        self.setLayout(self.layout)\n",
    "\n",
    "        self.button.clicked.connect(self.magic)\n",
    "\n",
    "\n",
    "    def magic(self):\n",
    "        self.text.setText(random.choice(self.hello))"
   ]
  },
  {
   "cell_type": "code",
   "execution_count": 4,
   "metadata": {
    "ExecuteTime": {
     "end_time": "2019-05-08T15:34:59.141815Z",
     "start_time": "2019-05-08T15:34:21.945426Z"
    }
   },
   "outputs": [
    {
     "ename": "SystemExit",
     "evalue": "0",
     "output_type": "error",
     "traceback": [
      "An exception has occurred, use %tb to see the full traceback.\n",
      "\u001b[1;31mSystemExit\u001b[0m\u001b[1;31m:\u001b[0m 0\n"
     ]
    },
    {
     "name": "stderr",
     "output_type": "stream",
     "text": [
      "d:\\3_software\\4_profession\\python3.7\\lib\\site-packages\\IPython\\core\\interactiveshell.py:3273: UserWarning: To exit: use 'exit', 'quit', or Ctrl-D.\n",
      "  warn(\"To exit: use 'exit', 'quit', or Ctrl-D.\", stacklevel=1)\n"
     ]
    }
   ],
   "source": [
    "if __name__ == \"__main__\":\n",
    "    app = QtWidgets.QApplication([])\n",
    "\n",
    "    widget = MyWidget()\n",
    "    widget.resize(800, 600)\n",
    "    widget.show()\n",
    "\n",
    "    sys.exit(app.exec_())"
   ]
  },
  {
   "cell_type": "code",
   "execution_count": null,
   "metadata": {
    "ExecuteTime": {
     "end_time": "2019-05-08T15:28:12.222538Z",
     "start_time": "2019-05-08T15:28:03.123729Z"
    }
   },
   "outputs": [],
   "source": []
  },
  {
   "cell_type": "code",
   "execution_count": null,
   "metadata": {},
   "outputs": [],
   "source": []
  }
 ],
 "metadata": {
  "kernelspec": {
   "display_name": "Python 3",
   "language": "python",
   "name": "python3"
  },
  "toc": {
   "base_numbering": 1,
   "nav_menu": {},
   "number_sections": true,
   "sideBar": true,
   "skip_h1_title": false,
   "title_cell": "Table of Contents",
   "title_sidebar": "Contents",
   "toc_cell": false,
   "toc_position": {},
   "toc_section_display": true,
   "toc_window_display": false
  },
  "varInspector": {
   "cols": {
    "lenName": 16,
    "lenType": 16,
    "lenVar": 40
   },
   "kernels_config": {
    "python": {
     "delete_cmd_postfix": "",
     "delete_cmd_prefix": "del ",
     "library": "var_list.py",
     "varRefreshCmd": "print(var_dic_list())"
    },
    "r": {
     "delete_cmd_postfix": ") ",
     "delete_cmd_prefix": "rm(",
     "library": "var_list.r",
     "varRefreshCmd": "cat(var_dic_list()) "
    }
   },
   "types_to_exclude": [
    "module",
    "function",
    "builtin_function_or_method",
    "instance",
    "_Feature"
   ],
   "window_display": false
  }
 },
 "nbformat": 4,
 "nbformat_minor": 2
}
